{
 "cells": [
  {
   "cell_type": "code",
   "execution_count": null,
   "id": "d80bf551-ec6e-4f17-8572-d8722a1d073f",
   "metadata": {
    "scrolled": true
   },
   "outputs": [],
   "source": [
    "#!pip install pandas transformers torch"
   ]
  },
  {
   "cell_type": "markdown",
   "id": "bf62fa68-a3b3-460a-88a2-6f03bee74a73",
   "metadata": {},
   "source": [
    "Special install of pytorch for apple sillicon"
   ]
  },
  {
   "cell_type": "code",
   "execution_count": null,
   "id": "897e0321-ce77-4304-9fa1-ca6e52bda662",
   "metadata": {},
   "outputs": [],
   "source": [
    "#!pip3 install --pre torch torchvision torchaudio --extra-index-url https://download.pytorch.org/whl/nightly/cpu"
   ]
  },
  {
   "cell_type": "code",
   "execution_count": null,
   "id": "f3ccceb2-00cf-48dd-aed6-6ead228078ab",
   "metadata": {},
   "outputs": [],
   "source": [
    "# Import necessary libraries\n",
    "import pandas as pd\n",
    "from transformers import pipeline\n",
    "import utils"
   ]
  },
  {
   "cell_type": "code",
   "execution_count": null,
   "id": "5fee29b7-c030-4357-9a2d-9bf194b1c9bd",
   "metadata": {},
   "outputs": [],
   "source": [
    "# Step 1: Load and Parse the possible classes\n",
    "# =================================\n",
    "\n",
    "# Load the CSV file with categories and identifiers\n",
    "categories = pd.read_csv('hierarchy/FoR_code_hierarchical_4_digit.csv')\n",
    "# Build the Hierarchical Structure with Identifiers\n",
    "hierarchy_with_ids = utils.build_hierarchy_with_ids(categories)"
   ]
  },
  {
   "cell_type": "code",
   "execution_count": null,
   "id": "c3241215-f9b3-43e9-8d87-b2b31bcc13a6",
   "metadata": {},
   "outputs": [],
   "source": [
    "# Step 2: Initialize the Hugging Face Model\n",
    "# ==========================================\n",
    "\n",
    "# Load the Hugging Face model for classification\n",
    "classifier = pipeline(\"zero-shot-classification\",\n",
    "                      #model=\"facebook/bart-large-mnli\")\n",
    "                      model=\"MoritzLaurer/deberta-v3-large-zeroshot-v2.0\",device = \"mps\")\n"
   ]
  },
  {
   "cell_type": "code",
   "execution_count": null,
   "id": "9d19abcf",
   "metadata": {},
   "outputs": [],
   "source": [
    "# Step 3: Load the CSV file with papers to be identified\n",
    "papers = pd.read_csv('sample_data/dev_sample.csv')"
   ]
  },
  {
   "cell_type": "code",
   "execution_count": null,
   "id": "76c9a509",
   "metadata": {},
   "outputs": [],
   "source": [
    "# Define the template with placeholders for the columns\n",
    "query_template = \"Title: {Publication Title}\"                     # Any Division Match = 0.7, Any Group Match = 0.4\n",
    "# query_template = \"Paper Title: {Publication Title}\"                 # Any Division Match = 0.6, Any Group Match = 0.4\n",
    "# query_template = \"{Publication Title}\"                            # Any Division Match = 0.6, Any Group Match = 0.4\n",
    "# query_template = \"{OUTLET}, {Publication Title}\"                  # Any Division Match = 0.5, Any Group Match = 0.5\n",
    "# query_template = \"Journal: {OUTLET}, Title: {Publication Title}\"  # Any Division Match = 0.5, Any Group Match = 0.4\n",
    "# query_template = \"Title: {Publication Title}, Journal: {OUTLET}\"  # Any Division Match = 0.5, Any Group Match = 0.4\n",
    "# query_template = \"{OUTLET}, {Publication Title}, {DESCRIPTION}\"   # Any Division Match = 0.4, Any Group Match = 0.4\n",
    "# query_template = \"Title: {Publication Title}, Faculty: {Author Department}\" # Any Division Match = 0.3, Any Group Match = 0.1\n",
    "# query_template = \"{Author Faculty}, Title: {Publication Title}\"   # Any Division Match = 0.4, Any Group Match = 0.3"
   ]
  },
  {
   "cell_type": "code",
   "execution_count": null,
   "id": "53405c04",
   "metadata": {},
   "outputs": [],
   "source": [
    "# Call the function, passing the template as an argument\n",
    "output = utils.classify_papers_with_template(\n",
    "    papers, \n",
    "    classifier, \n",
    "    hierarchy_with_ids, \n",
    "    template=query_template, \n",
    "    threshold=0.7, \n",
    "    n_max=3\n",
    ")"
   ]
  },
  {
   "cell_type": "code",
   "execution_count": null,
   "id": "d54ee29f",
   "metadata": {},
   "outputs": [],
   "source": [
    "# Define the match configuration with match types and number of digits\n",
    "match_config = {\n",
    "    'Division': 2,\n",
    "    'Group': 4\n",
    "}\n",
    "\n",
    "# Apply the function to the DataFrame\n",
    "matched = utils.apply_code_matches(output, match_config)"
   ]
  },
  {
   "cell_type": "code",
   "execution_count": null,
   "id": "efe15dc5",
   "metadata": {},
   "outputs": [],
   "source": [
    "# Write out the csv\n",
    "matched.to_csv(f'./output/dev_{query_template}.csv', index=False)"
   ]
  },
  {
   "cell_type": "code",
   "execution_count": null,
   "id": "0a099473",
   "metadata": {},
   "outputs": [],
   "source": [
    "# Calculate performance metrics\n",
    "# Fraction matched at the division level\n",
    "print(matched['Any_Division_Match'].mean())"
   ]
  },
  {
   "cell_type": "code",
   "execution_count": null,
   "id": "63fa4e43",
   "metadata": {},
   "outputs": [],
   "source": [
    "# Fraction matched at the group level\n",
    "print(matched['Any_Group_Match'].mean())"
   ]
  }
 ],
 "metadata": {
  "kernelspec": {
   "display_name": "Python 3 (ipykernel)",
   "language": "python",
   "name": "python3"
  },
  "language_info": {
   "codemirror_mode": {
    "name": "ipython",
    "version": 3
   },
   "file_extension": ".py",
   "mimetype": "text/x-python",
   "name": "python",
   "nbconvert_exporter": "python",
   "pygments_lexer": "ipython3",
   "version": "3.12.4"
  }
 },
 "nbformat": 4,
 "nbformat_minor": 5
}
