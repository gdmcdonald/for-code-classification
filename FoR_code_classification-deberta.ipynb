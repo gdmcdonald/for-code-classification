{
 "cells": [
  {
   "cell_type": "code",
   "execution_count": null,
   "id": "d80bf551-ec6e-4f17-8572-d8722a1d073f",
   "metadata": {
    "scrolled": true
   },
   "outputs": [],
   "source": [
    "#!pip install pandas transformers torch"
   ]
  },
  {
   "cell_type": "markdown",
   "id": "bf62fa68-a3b3-460a-88a2-6f03bee74a73",
   "metadata": {},
   "source": [
    "Special install of pytorch for apple sillicon"
   ]
  },
  {
   "cell_type": "code",
   "execution_count": null,
   "id": "897e0321-ce77-4304-9fa1-ca6e52bda662",
   "metadata": {},
   "outputs": [],
   "source": [
    "#!pip3 install --pre torch torchvision torchaudio --extra-index-url https://download.pytorch.org/whl/nightly/cpu"
   ]
  },
  {
   "cell_type": "code",
   "execution_count": 7,
   "id": "f3ccceb2-00cf-48dd-aed6-6ead228078ab",
   "metadata": {},
   "outputs": [],
   "source": [
    "# Import necessary libraries\n",
    "import pandas as pd\n",
    "from transformers import pipeline\n",
    "import utils"
   ]
  },
  {
   "cell_type": "code",
   "execution_count": 8,
   "id": "5fee29b7-c030-4357-9a2d-9bf194b1c9bd",
   "metadata": {},
   "outputs": [],
   "source": [
    "# Step 1: Load and Parse the possible classes\n",
    "# =================================\n",
    "\n",
    "# Load the CSV file with categories and identifiers\n",
    "categories = pd.read_csv('hierarchy/FoR_code_hierarchical_4_digit.csv')\n",
    "# Build the Hierarchical Structure with Identifiers\n",
    "hierarchy_with_ids = utils.build_hierarchy_with_ids(categories)"
   ]
  },
  {
   "cell_type": "code",
   "execution_count": 10,
   "id": "c3241215-f9b3-43e9-8d87-b2b31bcc13a6",
   "metadata": {},
   "outputs": [],
   "source": [
    "# Step 2: Initialize the Hugging Face Model\n",
    "# ==========================================\n",
    "\n",
    "# Load the Hugging Face model for classification\n",
    "classifier = pipeline(\"zero-shot-classification\",\n",
    "                      #model=\"facebook/bart-large-mnli\")\n",
    "                      model=\"MoritzLaurer/deberta-v3-large-zeroshot-v2.0\",device = \"mps\")\n"
   ]
  },
  {
   "cell_type": "code",
   "execution_count": null,
   "id": "9d19abcf",
   "metadata": {},
   "outputs": [],
   "source": [
    "# Step 3: Load the CSV file with papers to be identified\n",
    "papers = pd.read_csv('sample_data/dev_sample.csv')"
   ]
  },
  {
   "cell_type": "code",
   "execution_count": 11,
   "id": "89ba1701-f6b6-45d4-8b86-95a634cdd065",
   "metadata": {},
   "outputs": [],
   "source": [
    "# #title = \"From Maladaptation to Competition to Cooperation in the Evolution of Musical Behaviour\"\n",
    "# #journal = \"Musicae Scientiae\"\n",
    "# #title = \"Protruding masticatory (superfast) myosin heads from staggered thick filaments of dog jaw muscle revealed by X-ray diffraction\"\n",
    "# #journal = \"Journal of Biochemistry\"\n",
    "# title = \"Characterising infant and young child feeding practices and the consumption of poultry products in rural Tanzania: A mixed methods approach\"\n",
    "# journal = \"Maternal and Child Nutrition\"\n",
    "# abstract = \"Suboptimal breastfeeding practices, early initiation of complementary feeding, and monotonous cereal-based diets have been implicated as contributors to continuing high rates of child undernutrition in sub-Saharan Africa. Nutrition-sensitive interventions, including agricultural programs that increase access to nutrient-rich vegetables, legumes, and animal-source foods, have the potential to achieve sustainable improvements in children's diets. In the quest to evaluate the efficacy of such programs in improving growth and development in the first 2 years of life, there is a role for mixed methods research to better understand existing infant and young child feeding practices. This analysis forms part of a longitudinal study assessing the impact of improvements to poultry health and crop production on diets and growth of 503 randomly selected children from eight rural communities in Manyoni District in central Tanzania. Using an explanatory sequential design, the quantitative phase of data collection was conducted between May 2014 and May 2016, comprising six monthly structured questionnaires, four monthly household-level documentation of chicken and egg consumption, and fortnightly records of children's breastfeeding status. The subsequent qualitative phase involved in-depth interviews with a subset of 39 mothers in October 2016. Breastfeeding was almost universal (96.8%) and of long duration (mean = 21.7 months, SD = 3.6), but early initiation of complementary feeding was also common (74.4%; mean = 4.0 months, SD = 1.8), overwhelmingly driven by maternal perceptions of insufficient milk supply (95.0%). Chicken and eggs were infrequently eaten, but close associations between maternal and child consumption patterns (p <.001) suggest the potential for strategies that increase household-level consumption to bring nutritional benefits to young children.\"\n",
    "\n",
    "# def tst_fnc():\n",
    "#     #query = \"Journal: \"+journal+\", Title: \"+physics_paper\n",
    "#     #query = \"Journal: \"+journal+\", Title: \"+title\n",
    "#     query = title\n",
    "#     #query = title + \". Abstract: \"+ abstract\n",
    "#     #query = \"Journal: \"+journal+\", Title: \"+title+\", Abstract: \"+ abstract\n",
    "#     #query = \"Abstract: \"+ abstract+\", Title: \"+title+\", Journal: \"+journal\n",
    "#  #   return classify_text_with_ids(query, classifier, hierarchy_with_ids,threshold=0.3,n_max=10)\n",
    "#     return classify_text_with_ids(query, classifier, hierarchy_with_ids,threshold=0.7)\n",
    "\n",
    "# #elapsed_time = timeit.timeit(tst_fnc, number=1)\n",
    "# #print(f\"Elapsed time: {elapsed_time} seconds\")\n",
    "# result = tst_fnc()\n",
    "\n",
    "# flattened_list = [item for sublist in result for item in sublist]\n",
    "\n",
    "# # Display the results\n",
    "# print(\"Final Classification Results:\")\n",
    "# print(flattened_list)\n",
    "# #result2 = [expression(item) for item in result]\n",
    "# #print(list.flatten(result))\n",
    "\n",
    "# #for path, prob, hierarchy_path in result:\n",
    "#    print(f\"Path: {path}, Probability: {prob:.4f}\\n\")"
   ]
  },
  {
   "cell_type": "code",
   "execution_count": null,
   "id": "76c9a509",
   "metadata": {},
   "outputs": [],
   "source": [
    "# Define the template with placeholders for the columns\n",
    "query_template = \"Title: {Publication Title}\""
   ]
  },
  {
   "cell_type": "code",
   "execution_count": 14,
   "id": "53405c04",
   "metadata": {},
   "outputs": [],
   "source": [
    "# Call the function, passing the template as an argument\n",
    "output = utils.classify_papers_with_template(\n",
    "    papers, \n",
    "    classifier, \n",
    "    hierarchy_with_ids, \n",
    "    template=query_template, \n",
    "    threshold=0.7, \n",
    "    n_max=3\n",
    ")"
   ]
  },
  {
   "cell_type": "code",
   "execution_count": null,
   "id": "f3659eed",
   "metadata": {},
   "outputs": [],
   "source": [
    "# Display the first few rows of the DataFrame\n",
    "#print(output.head())"
   ]
  },
  {
   "cell_type": "code",
   "execution_count": 15,
   "id": "d54ee29f",
   "metadata": {},
   "outputs": [],
   "source": [
    "# Define the match configuration with match types and number of digits\n",
    "match_config = {\n",
    "    'Division': 2,\n",
    "    'Group': 4\n",
    "}\n",
    "\n",
    "# Apply the function to the DataFrame\n",
    "matched = utils.apply_code_matches(output, match_config)"
   ]
  },
  {
   "cell_type": "code",
   "execution_count": 16,
   "id": "efe15dc5",
   "metadata": {},
   "outputs": [],
   "source": [
    "# Write out the csv\n",
    "matched.to_csv('./output/dev_output.csv', index=False)"
   ]
  },
  {
   "cell_type": "code",
   "execution_count": null,
   "id": "0a099473",
   "metadata": {},
   "outputs": [],
   "source": [
    "# Calculate performance metrics\n"
   ]
  }
 ],
 "metadata": {
  "kernelspec": {
   "display_name": "Python 3 (ipykernel)",
   "language": "python",
   "name": "python3"
  },
  "language_info": {
   "codemirror_mode": {
    "name": "ipython",
    "version": 3
   },
   "file_extension": ".py",
   "mimetype": "text/x-python",
   "name": "python",
   "nbconvert_exporter": "python",
   "pygments_lexer": "ipython3",
   "version": "3.12.4"
  }
 },
 "nbformat": 4,
 "nbformat_minor": 5
}
