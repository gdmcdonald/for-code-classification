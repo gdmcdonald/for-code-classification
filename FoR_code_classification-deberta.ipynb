{
 "cells": [
  {
   "cell_type": "code",
   "execution_count": null,
   "id": "d80bf551-ec6e-4f17-8572-d8722a1d073f",
   "metadata": {
    "scrolled": true
   },
   "outputs": [],
   "source": [
    "#!pip install pandas transformers torch"
   ]
  },
  {
   "cell_type": "markdown",
   "id": "bf62fa68-a3b3-460a-88a2-6f03bee74a73",
   "metadata": {},
   "source": [
    "Special install of pytorch for apple sillicon"
   ]
  },
  {
   "cell_type": "code",
   "execution_count": null,
   "id": "897e0321-ce77-4304-9fa1-ca6e52bda662",
   "metadata": {},
   "outputs": [],
   "source": [
    "#!pip3 install --pre torch torchvision torchaudio --extra-index-url https://download.pytorch.org/whl/nightly/cpu"
   ]
  },
  {
   "cell_type": "code",
   "execution_count": 16,
   "id": "f3ccceb2-00cf-48dd-aed6-6ead228078ab",
   "metadata": {},
   "outputs": [],
   "source": [
    "# Import necessary libraries\n",
    "import pandas as pd\n",
    "from transformers import pipeline\n",
    "import timeit"
   ]
  },
  {
   "cell_type": "code",
   "execution_count": 17,
   "id": "5fee29b7-c030-4357-9a2d-9bf194b1c9bd",
   "metadata": {},
   "outputs": [
    {
     "data": {
      "text/html": [
       "<div>\n",
       "<style scoped>\n",
       "    .dataframe tbody tr th:only-of-type {\n",
       "        vertical-align: middle;\n",
       "    }\n",
       "\n",
       "    .dataframe tbody tr th {\n",
       "        vertical-align: top;\n",
       "    }\n",
       "\n",
       "    .dataframe thead th {\n",
       "        text-align: right;\n",
       "    }\n",
       "</style>\n",
       "<table border=\"1\" class=\"dataframe\">\n",
       "  <thead>\n",
       "    <tr style=\"text-align: right;\">\n",
       "      <th></th>\n",
       "      <th>division</th>\n",
       "      <th>division_id</th>\n",
       "      <th>group</th>\n",
       "      <th>group_id</th>\n",
       "    </tr>\n",
       "  </thead>\n",
       "  <tbody>\n",
       "    <tr>\n",
       "      <th>0</th>\n",
       "      <td>Agricultural, Veterinary And Food Sciences</td>\n",
       "      <td>300000</td>\n",
       "      <td>Agricultural biotechnology</td>\n",
       "      <td>300100</td>\n",
       "    </tr>\n",
       "    <tr>\n",
       "      <th>1</th>\n",
       "      <td>Agricultural, Veterinary And Food Sciences</td>\n",
       "      <td>300000</td>\n",
       "      <td>Agricultural biotechnology</td>\n",
       "      <td>300100</td>\n",
       "    </tr>\n",
       "    <tr>\n",
       "      <th>2</th>\n",
       "      <td>Agricultural, Veterinary And Food Sciences</td>\n",
       "      <td>300000</td>\n",
       "      <td>Agricultural biotechnology</td>\n",
       "      <td>300100</td>\n",
       "    </tr>\n",
       "    <tr>\n",
       "      <th>3</th>\n",
       "      <td>Agricultural, Veterinary And Food Sciences</td>\n",
       "      <td>300000</td>\n",
       "      <td>Agricultural biotechnology</td>\n",
       "      <td>300100</td>\n",
       "    </tr>\n",
       "    <tr>\n",
       "      <th>4</th>\n",
       "      <td>Agricultural, Veterinary And Food Sciences</td>\n",
       "      <td>300000</td>\n",
       "      <td>Agricultural biotechnology</td>\n",
       "      <td>300100</td>\n",
       "    </tr>\n",
       "  </tbody>\n",
       "</table>\n",
       "</div>"
      ],
      "text/plain": [
       "                                     division  division_id  \\\n",
       "0  Agricultural, Veterinary And Food Sciences       300000   \n",
       "1  Agricultural, Veterinary And Food Sciences       300000   \n",
       "2  Agricultural, Veterinary And Food Sciences       300000   \n",
       "3  Agricultural, Veterinary And Food Sciences       300000   \n",
       "4  Agricultural, Veterinary And Food Sciences       300000   \n",
       "\n",
       "                        group  group_id  \n",
       "0  Agricultural biotechnology    300100  \n",
       "1  Agricultural biotechnology    300100  \n",
       "2  Agricultural biotechnology    300100  \n",
       "3  Agricultural biotechnology    300100  \n",
       "4  Agricultural biotechnology    300100  "
      ]
     },
     "execution_count": 17,
     "metadata": {},
     "output_type": "execute_result"
    }
   ],
   "source": [
    "# Step 1: Load and Parse the CSV\n",
    "# =================================\n",
    "\n",
    "# Load the CSV file with categories and identifiers\n",
    "df = pd.read_csv('FoR_code_hierarchical_4_digit.csv')\n",
    "\n",
    "# Load the CSV file with papers to be identified\n",
    "papers = pd.read_csv('dev_sample.csv')\n",
    "\n",
    "# Display the DataFrame to understand its structure\n",
    "df.head()"
   ]
  },
  {
   "cell_type": "code",
   "execution_count": 18,
   "id": "0db2a1aa-1108-45f3-826d-7d0f7ab37686",
   "metadata": {
    "scrolled": true
   },
   "outputs": [
    {
     "name": "stdout",
     "output_type": "stream",
     "text": [
      "{'Agricultural, Veterinary And Food Sciences': {'id': 300000, 'children': {'Agricultural biotechnology': {'id': 300100, 'children': {}}, 'Agriculture, land and farm management': {'id': 300200, 'children': {}}, 'Animal production': {'id': 300300, 'children': {}}, 'Crop and pasture production': {'id': 300400, 'children': {}}, 'Fisheries sciences': {'id': 300500, 'children': {}}, 'Food sciences': {'id': 300600, 'children': {}}, 'Forestry sciences': {'id': 300700, 'children': {}}, 'Horticultural production': {'id': 300800, 'children': {}}, 'Veterinary sciences': {'id': 300900, 'children': {}}, 'Other agricultural, veterinary and food sciences': {'id': 309900, 'children': {}}}}, 'Biological Sciences': {'id': 310000, 'children': {'Biochemistry and cell biology': {'id': 310100, 'children': {}}, 'Bioinformatics and computational biology': {'id': 310200, 'children': {}}, 'Ecology': {'id': 310300, 'children': {}}, 'Evolutionary biology': {'id': 310400, 'children': {}}, 'Genetics': {'id': 310500, 'children': {}}, 'Industrial biotechnology': {'id': 310600, 'children': {}}, 'Microbiology': {'id': 310700, 'children': {}}, 'Plant biology': {'id': 310800, 'children': {}}, 'Zoology': {'id': 310900, 'children': {}}, 'Other biological sciences': {'id': 319900, 'children': {}}}}, 'Biomedical And Clinical Sciences': {'id': 320000, 'children': {'Cardiovascular medicine and haematology': {'id': 320100, 'children': {}}, 'Clinical sciences': {'id': 320200, 'children': {}}, 'Dentistry': {'id': 320300, 'children': {}}, 'Immunology': {'id': 320400, 'children': {}}, 'Medical biochemistry and metabolomics': {'id': 320500, 'children': {}}, 'Medical biotechnology': {'id': 320600, 'children': {}}, 'Medical microbiology': {'id': 320700, 'children': {}}, 'Medical physiology': {'id': 320800, 'children': {}}, 'Neurosciences': {'id': 320900, 'children': {}}, 'Nutrition and dietetics': {'id': 321000, 'children': {}}, 'Oncology and carcinogenesis': {'id': 321100, 'children': {}}, 'Ophthalmology and optometry': {'id': 321200, 'children': {}}, 'Paediatrics': {'id': 321300, 'children': {}}, 'Pharmacology and pharmaceutical sciences': {'id': 321400, 'children': {}}, 'Reproductive medicine': {'id': 321500, 'children': {}}, 'Other biomedical and clinical sciences': {'id': 329900, 'children': {}}}}, 'Built Environment And Design': {'id': 330000, 'children': {'Architecture': {'id': 330100, 'children': {}}, 'Building': {'id': 330200, 'children': {}}, 'Design': {'id': 330300, 'children': {}}, 'Urban and regional planning': {'id': 330400, 'children': {}}, 'Other built environment and design': {'id': 339900, 'children': {}}}}, 'Chemical Sciences': {'id': 340000, 'children': {'Analytical chemistry': {'id': 340100, 'children': {}}, 'Inorganic chemistry': {'id': 340200, 'children': {}}, 'Macromolecular and materials chemistry': {'id': 340300, 'children': {}}, 'Medicinal and biomolecular chemistry': {'id': 340400, 'children': {}}, 'Organic chemistry': {'id': 340500, 'children': {}}, 'Physical chemistry': {'id': 340600, 'children': {}}, 'Theoretical and computational chemistry': {'id': 340700, 'children': {}}, 'Other chemical sciences': {'id': 349900, 'children': {}}}}, 'Commerce, Management, Tourism And Services': {'id': 350000, 'children': {'Accounting, auditing and accountability': {'id': 350100, 'children': {}}, 'Banking, finance and investment': {'id': 350200, 'children': {}}, 'Business systems in context': {'id': 350300, 'children': {}}, 'Commercial services': {'id': 350400, 'children': {}}, 'Human resources and industrial relations': {'id': 350500, 'children': {}}, 'Marketing': {'id': 350600, 'children': {}}, 'Strategy, management and organisational behaviour': {'id': 350700, 'children': {}}, 'Tourism': {'id': 350800, 'children': {}}, 'Transportation, logistics and supply chains': {'id': 350900, 'children': {}}, 'Other commerce, management, tourism and services': {'id': 359900, 'children': {}}}}, 'Creative Arts And Writing': {'id': 360000, 'children': {'Art history, theory and criticism': {'id': 360100, 'children': {}}, 'Creative and professional writing': {'id': 360200, 'children': {}}, 'Music': {'id': 360300, 'children': {}}, 'Performing arts': {'id': 360400, 'children': {}}, 'Screen and digital media': {'id': 360500, 'children': {}}, 'Visual arts': {'id': 360600, 'children': {}}, 'Other creative arts and writing': {'id': 369900, 'children': {}}}}, 'Earth Sciences': {'id': 370000, 'children': {'Atmospheric sciences': {'id': 370100, 'children': {}}, 'Climate change science': {'id': 370200, 'children': {}}, 'Geochemistry': {'id': 370300, 'children': {}}, 'Geoinformatics': {'id': 370400, 'children': {}}, 'Geology': {'id': 370500, 'children': {}}, 'Geophysics': {'id': 370600, 'children': {}}, 'Hydrology': {'id': 370700, 'children': {}}, 'Oceanography': {'id': 370800, 'children': {}}, 'Physical geography and environmental geoscience': {'id': 370900, 'children': {}}, 'Other earth sciences': {'id': 379900, 'children': {}}}}, 'Economics': {'id': 380000, 'children': {'Applied economics': {'id': 380100, 'children': {}}, 'Econometrics': {'id': 380200, 'children': {}}, 'Economic theory': {'id': 380300, 'children': {}}, 'Other economics': {'id': 389900, 'children': {}}}}, 'Education': {'id': 390000, 'children': {'Curriculum and pedagogy': {'id': 390100, 'children': {}}, 'Education policy, sociology and philosophy': {'id': 390200, 'children': {}}, 'Education systems': {'id': 390300, 'children': {}}, 'Specialist studies in education': {'id': 390400, 'children': {}}, 'Other education': {'id': 399900, 'children': {}}}}, 'Engineering': {'id': 400000, 'children': {'Aerospace engineering': {'id': 400100, 'children': {}}, 'Automotive engineering': {'id': 400200, 'children': {}}, 'Biomedical engineering': {'id': 400300, 'children': {}}, 'Chemical engineering': {'id': 400400, 'children': {}}, 'Civil engineering': {'id': 400500, 'children': {}}, 'Communications engineering': {'id': 400600, 'children': {}}, 'Control engineering, mechatronics and robotics': {'id': 400700, 'children': {}}, 'Electrical engineering': {'id': 400800, 'children': {}}, 'Electronics, sensors and digital hardware': {'id': 400900, 'children': {}}, 'Engineering practice and education': {'id': 401000, 'children': {}}, 'Environmental engineering': {'id': 401100, 'children': {}}, 'Fluid mechanics and thermal engineering': {'id': 401200, 'children': {}}, 'Geomatic engineering': {'id': 401300, 'children': {}}, 'Manufacturing engineering': {'id': 401400, 'children': {}}, 'Maritime engineering': {'id': 401500, 'children': {}}, 'Materials engineering': {'id': 401600, 'children': {}}, 'Mechanical engineering': {'id': 401700, 'children': {}}, 'Nanotechnology': {'id': 401800, 'children': {}}, 'Resources engineering and extractive metallurgy': {'id': 401900, 'children': {}}, 'Other engineering': {'id': 409900, 'children': {}}}}, 'Environmental Sciences': {'id': 410000, 'children': {'Climate change impacts and adaptation': {'id': 410100, 'children': {}}, 'Ecological applications': {'id': 410200, 'children': {}}, 'Environmental biotechnology': {'id': 410300, 'children': {}}, 'Environmental management': {'id': 410400, 'children': {}}, 'Pollution and contamination': {'id': 410500, 'children': {}}, 'Soil sciences': {'id': 410600, 'children': {}}, 'Other environmental sciences': {'id': 419900, 'children': {}}}}, 'Health Sciences': {'id': 420000, 'children': {'Allied health and rehabilitation science': {'id': 420100, 'children': {}}, 'Epidemiology': {'id': 420200, 'children': {}}, 'Health services and systems': {'id': 420300, 'children': {}}, 'Midwifery': {'id': 420400, 'children': {}}, 'Nursing': {'id': 420500, 'children': {}}, 'Public health': {'id': 420600, 'children': {}}, 'Sports science and exercise': {'id': 420700, 'children': {}}, 'Traditional, complementary and integrative medicine': {'id': 420800, 'children': {}}, 'Other health sciences': {'id': 429900, 'children': {}}}}, 'History, Heritage And Archaeology': {'id': 430000, 'children': {'Archaeology': {'id': 430100, 'children': {}}, 'Heritage, archive and museum studies': {'id': 430200, 'children': {}}, 'Historical studies': {'id': 430300, 'children': {}}, 'Other history, heritage and archaeology': {'id': 439900, 'children': {}}}}, 'Human Society': {'id': 440000, 'children': {'Anthropology': {'id': 440100, 'children': {}}, 'Criminology': {'id': 440200, 'children': {}}, 'Demography': {'id': 440300, 'children': {}}, 'Development studies': {'id': 440400, 'children': {}}, 'Gender studies': {'id': 440500, 'children': {}}, 'Human geography': {'id': 440600, 'children': {}}, 'Policy and administration': {'id': 440700, 'children': {}}, 'Political science': {'id': 440800, 'children': {}}, 'Social work': {'id': 440900, 'children': {}}, 'Sociology': {'id': 441000, 'children': {}}, 'Other human society': {'id': 449900, 'children': {}}}}, 'Indigenous Studies': {'id': 450000, 'children': {'Aboriginal and Torres Strait Islander culture, language and history': {'id': 450100, 'children': {}}, 'Aboriginal and Torres Strait Islander education': {'id': 450200, 'children': {}}, 'Aboriginal and Torres Strait Islander environmental knowledges and management': {'id': 450300, 'children': {}}, 'Aboriginal and Torres Strait Islander health and wellbeing': {'id': 450400, 'children': {}}, 'Aboriginal and Torres Strait Islander peoples, society and community': {'id': 450500, 'children': {}}, 'Aboriginal and Torres Strait Islander sciences': {'id': 450600, 'children': {}}, 'Te ahurea, reo me te hītori o te Māori (Māori culture, language and history)': {'id': 450700, 'children': {}}, 'Mātauranga Māori (Māori education)': {'id': 450800, 'children': {}}, 'Ngā mātauranga taiao o te Māori (Māori environmental knowledges)': {'id': 450900, 'children': {}}, 'Te hauora me te oranga o te Māori (Māori health and wellbeing)': {'id': 451000, 'children': {}}, 'Ngā tāngata, te porihanga me ngā hapori o te Māori (Māori peoples, society and community)': {'id': 451100, 'children': {}}, 'Ngā pūtaiao Māori (Māori sciences)': {'id': 451200, 'children': {}}, 'Pacific Peoples culture, language and history': {'id': 451300, 'children': {}}, 'Pacific Peoples education': {'id': 451400, 'children': {}}, 'Pacific Peoples environmental knowledges': {'id': 451500, 'children': {}}, 'Pacific Peoples health and wellbeing': {'id': 451600, 'children': {}}, 'Pacific Peoples sciences': {'id': 451700, 'children': {}}, 'Pacific Peoples society and community': {'id': 451800, 'children': {}}, 'Other Indigenous data, methodologies and global Indigenous studies': {'id': 451900, 'children': {}}, 'Other Indigenous studies': {'id': 459900, 'children': {}}}}, 'Information And Computing Sciences': {'id': 460000, 'children': {'Applied computing': {'id': 460100, 'children': {}}, 'Artificial intelligence': {'id': 460200, 'children': {}}, 'Computer vision and multimedia computation': {'id': 460300, 'children': {}}, 'Cybersecurity and privacy': {'id': 460400, 'children': {}}, 'Data management and data science': {'id': 460500, 'children': {}}, 'Distributed computing and systems software': {'id': 460600, 'children': {}}, 'Graphics, augmented reality and games': {'id': 460700, 'children': {}}, 'Human-centred computing': {'id': 460800, 'children': {}}, 'Information systems': {'id': 460900, 'children': {}}, 'Library and information studies': {'id': 461000, 'children': {}}, 'Machine learning': {'id': 461100, 'children': {}}, 'Software engineering': {'id': 461200, 'children': {}}, 'Theory of computation': {'id': 461300, 'children': {}}, 'Other information and computing sciences': {'id': 469900, 'children': {}}}}, 'Language, Communication And Culture': {'id': 470000, 'children': {'Communication and media studies': {'id': 470100, 'children': {}}, 'Cultural studies': {'id': 470200, 'children': {}}, 'Language studies': {'id': 470300, 'children': {}}, 'Linguistics': {'id': 470400, 'children': {}}, 'Literary studies': {'id': 470500, 'children': {}}, 'Other language, communication and culture': {'id': 479900, 'children': {}}}}, 'Law And Legal Studies': {'id': 480000, 'children': {'Commercial law': {'id': 480100, 'children': {}}, 'Environmental and resources law': {'id': 480200, 'children': {}}, 'International and comparative law': {'id': 480300, 'children': {}}, 'Law in context': {'id': 480400, 'children': {}}, 'Legal systems': {'id': 480500, 'children': {}}, 'Private law and civil obligations': {'id': 480600, 'children': {}}, 'Public law': {'id': 480700, 'children': {}}, 'Other law and legal studies': {'id': 489900, 'children': {}}}}, 'Mathematical Sciences': {'id': 490000, 'children': {'Applied mathematics': {'id': 490100, 'children': {}}, 'Mathematical physics': {'id': 490200, 'children': {}}, 'Numerical and computational mathematics': {'id': 490300, 'children': {}}, 'Pure mathematics': {'id': 490400, 'children': {}}, 'Statistics': {'id': 490500, 'children': {}}, 'Other mathematical sciences': {'id': 499900, 'children': {}}}}, 'Philosophy And Religious Studies': {'id': 500000, 'children': {'Applied ethics': {'id': 500100, 'children': {}}, 'History and philosophy of specific fields': {'id': 500200, 'children': {}}, 'Philosophy': {'id': 500300, 'children': {}}, 'Religious studies': {'id': 500400, 'children': {}}, 'Theology': {'id': 500500, 'children': {}}, 'Other philosophy and religious studies': {'id': 509900, 'children': {}}}}, 'Physical Sciences': {'id': 510000, 'children': {'Astronomical sciences': {'id': 510100, 'children': {}}, 'Atomic, molecular and optical physics': {'id': 510200, 'children': {}}, 'Classical physics': {'id': 510300, 'children': {}}, 'Condensed matter physics': {'id': 510400, 'children': {}}, 'Medical and biological physics': {'id': 510500, 'children': {}}, 'Nuclear and plasma physics': {'id': 510600, 'children': {}}, 'Particle and high energy physics': {'id': 510700, 'children': {}}, 'Quantum physics': {'id': 510800, 'children': {}}, 'Space sciences': {'id': 510900, 'children': {}}, 'Synchrotrons and accelerators': {'id': 511000, 'children': {}}, 'Other physical sciences': {'id': 519900, 'children': {}}}}, 'Psychology': {'id': 520000, 'children': {'Applied and developmental psychology': {'id': 520100, 'children': {}}, 'Biological psychology': {'id': 520200, 'children': {}}, 'Clinical and health psychology': {'id': 520300, 'children': {}}, 'Cognitive and computational psychology': {'id': 520400, 'children': {}}, 'Social and personality psychology': {'id': 520500, 'children': {}}, 'Other psychology': {'id': 529900, 'children': {}}}}}\n"
     ]
    }
   ],
   "source": [
    "# Step 2: Build the Hierarchical Structure with Identifiers\n",
    "# ==========================================================\n",
    "\n",
    "def build_hierarchy_with_ids(df):\n",
    "    hierarchy = {}\n",
    "    \n",
    "    for _, row in df.iterrows():\n",
    "        current_level = hierarchy\n",
    "        \n",
    "        # Iterate over pairs of columns (category and ID)\n",
    "        for i in range(0, len(df.columns), 2):  \n",
    "            category_col = df.columns[i]\n",
    "            id_col = df.columns[i + 1]\n",
    "            \n",
    "            if pd.notna(row[category_col]):\n",
    "                if row[category_col] not in current_level:\n",
    "                    current_level[row[category_col]] = {'id': row[id_col], 'children': {}}\n",
    "                current_level = current_level[row[category_col]]['children']\n",
    "    \n",
    "    return hierarchy\n",
    "\n",
    "# Build the hierarchy with identifiers\n",
    "hierarchy_with_ids = build_hierarchy_with_ids(df)\n",
    "print(hierarchy_with_ids)"
   ]
  },
  {
   "cell_type": "code",
   "execution_count": 19,
   "id": "c3241215-f9b3-43e9-8d87-b2b31bcc13a6",
   "metadata": {},
   "outputs": [],
   "source": [
    "# Step 3: Initialize the Hugging Face Model\n",
    "# ==========================================\n",
    "\n",
    "# Load the Hugging Face model for classification\n",
    "classifier = pipeline(\"zero-shot-classification\",\n",
    "                      #model=\"facebook/bart-large-mnli\")\n",
    "                      model=\"MoritzLaurer/deberta-v3-large-zeroshot-v2.0\",device = \"mps\")\n"
   ]
  },
  {
   "cell_type": "markdown",
   "id": "7305a2c0-fa18-4532-ba49-cfcdd4798ec5",
   "metadata": {},
   "source": [
    "def classify_text_with_ids(text, classifier, node, threshold=0.7):\n",
    "    print(f\"Classifying at level: {list(node.keys())}\")\n",
    "\n",
    "    # Classify text at the current node level with multi-label classification\n",
    "    labels = list(node.keys())\n",
    "    predictions = classifier(text, candidate_labels=labels, multi_label=True)\n",
    "\n",
    "    # Display raw predictions for clarity\n",
    "    print(f\"Raw predictions: {dict(zip(predictions['labels'], predictions['scores']))}\")\n",
    "\n",
    "    # Normalize probabilities by the top prediction\n",
    "    max_score = max(predictions['scores'])\n",
    "    normalized_scores = [score / max_score for score in predictions['scores']]\n",
    "\n",
    "    # Display normalized scores for clarity\n",
    "    print(f\"Normalized scores: {dict(zip(predictions['labels'], normalized_scores))}\")\n",
    "\n",
    "    # Filter candidates above the threshold\n",
    "    valid_candidates = [\n",
    "        (predictions['labels'][i], predictions['scores'][i])\n",
    "        for i in range(len(labels))\n",
    "        if normalized_scores[i] >= threshold\n",
    "    ]\n",
    "\n",
    "    print(f\"Valid candidates above threshold {threshold}: {valid_candidates}\")\n",
    "\n",
    "    results = []\n",
    "    for label, score in valid_candidates:\n",
    "        child_node = node[label]\n",
    "        print(f\"Processing label: '{label}' with score: {score:.4f}\")\n",
    "\n",
    "        if child_node['children']:  # Reclassify at the lower level\n",
    "            print(f\"Descending into children of '{label}'\")\n",
    "            sub_results = classify_text_with_ids(text, classifier, child_node['children'], threshold)\n",
    "            # Multiply probabilities (naive Bayes style)\n",
    "            for sub_label, sub_prob, sub_path in sub_results:\n",
    "                combined_prob = score * sub_prob\n",
    "                combined_path = f\"{label} -> {sub_label}\"\n",
    "                results.append((combined_path, combined_prob, [label] + sub_path))\n",
    "                print(f\"  Combined result: {combined_path} with probability {combined_prob:.4f}\")\n",
    "        else:\n",
    "            results.append((label, score, [label]))\n",
    "            print(f\"Final result at leaf node: {label} with probability {score:.4f}\")\n",
    "\n",
    "    return results"
   ]
  },
  {
   "cell_type": "code",
   "execution_count": 22,
   "id": "a53bcfce-f4dd-4bdd-b05a-3ef173219f65",
   "metadata": {},
   "outputs": [],
   "source": [
    "def classify_text_with_ids(text, classifier, node, threshold=0.7, n_max=None):\n",
    "    # Step 1: Classify text at the current node level with multi-label classification\n",
    "    labels = list(node.keys())\n",
    "    predictions = classifier(text, candidate_labels=labels, multi_label=True)\n",
    "\n",
    "    # Normalize probabilities by the top prediction\n",
    "    max_score = max(predictions['scores'])\n",
    "    normalized_scores = [score / max_score for score in predictions['scores']]\n",
    "\n",
    "    # Filter candidates above the threshold\n",
    "    valid_candidates = [\n",
    "        (predictions['labels'][i], predictions['scores'][i])\n",
    "        for i in range(len(labels))\n",
    "        if normalized_scores[i] >= threshold\n",
    "    ]\n",
    "\n",
    "    results = []\n",
    "    for label, score in valid_candidates:\n",
    "        child_node = node[label]\n",
    "        if child_node['children']:  # Reclassify at the lower level\n",
    "            sub_results = classify_text_with_ids(text, classifier, child_node['children'], threshold)\n",
    "            # Multiply probabilities (naive Bayes style)\n",
    "            for sub_label, sub_prob, sub_path in sub_results:\n",
    "                results.append((f\"{label} -> {sub_label}\", score * sub_prob, [label] + sub_path))\n",
    "        else:\n",
    "            results.append((label, score, [label]))\n",
    "\n",
    "    # Step 2: Final pass over all combined answers\n",
    "    if results:\n",
    "        # Find the maximum probability from the combined results\n",
    "        max_combined_prob = max(result[1] for result in results)\n",
    "\n",
    "        # Filter out results with probabilities below threshold * max_combined_prob\n",
    "        filtered_results = [\n",
    "            result for result in results\n",
    "            if result[1] >= threshold * max_combined_prob\n",
    "        ]\n",
    "\n",
    "        # Sort the results by probability in descending order\n",
    "        filtered_results.sort(key=lambda x: x[1], reverse=True)\n",
    "\n",
    "        # Cut to the top n_max results if specified\n",
    "        if n_max is not None:\n",
    "            filtered_results = filtered_results[:n_max]\n",
    "\n",
    "        results = filtered_results\n",
    "\n",
    "\n",
    "    return results"
   ]
  },
  {
   "cell_type": "code",
   "execution_count": 23,
   "id": "89ba1701-f6b6-45d4-8b86-95a634cdd065",
   "metadata": {},
   "outputs": [
    {
     "name": "stdout",
     "output_type": "stream",
     "text": [
      "Final Classification Results:\n",
      "Path: Health Sciences -> Public health, Probability: 0.4437\n",
      "\n",
      "Path: Health Sciences -> Epidemiology, Probability: 0.3378\n",
      "\n"
     ]
    }
   ],
   "source": [
    "#title = \"From Maladaptation to Competition to Cooperation in the Evolution of Musical Behaviour\"\n",
    "#journal = \"Musicae Scientiae\"\n",
    "#title = \"Protruding masticatory (superfast) myosin heads from staggered thick filaments of dog jaw muscle revealed by X-ray diffraction\"\n",
    "#journal = \"Journal of Biochemistry\"\n",
    "title = \"Characterising infant and young child feeding practices and the consumption of poultry products in rural Tanzania: A mixed methods approach\"\n",
    "journal = \"Maternal and Child Nutrition\"\n",
    "abstract = \"Suboptimal breastfeeding practices, early initiation of complementary feeding, and monotonous cereal-based diets have been implicated as contributors to continuing high rates of child undernutrition in sub-Saharan Africa. Nutrition-sensitive interventions, including agricultural programs that increase access to nutrient-rich vegetables, legumes, and animal-source foods, have the potential to achieve sustainable improvements in children's diets. In the quest to evaluate the efficacy of such programs in improving growth and development in the first 2 years of life, there is a role for mixed methods research to better understand existing infant and young child feeding practices. This analysis forms part of a longitudinal study assessing the impact of improvements to poultry health and crop production on diets and growth of 503 randomly selected children from eight rural communities in Manyoni District in central Tanzania. Using an explanatory sequential design, the quantitative phase of data collection was conducted between May 2014 and May 2016, comprising six monthly structured questionnaires, four monthly household-level documentation of chicken and egg consumption, and fortnightly records of children's breastfeeding status. The subsequent qualitative phase involved in-depth interviews with a subset of 39 mothers in October 2016. Breastfeeding was almost universal (96.8%) and of long duration (mean = 21.7 months, SD = 3.6), but early initiation of complementary feeding was also common (74.4%; mean = 4.0 months, SD = 1.8), overwhelmingly driven by maternal perceptions of insufficient milk supply (95.0%). Chicken and eggs were infrequently eaten, but close associations between maternal and child consumption patterns (p <.001) suggest the potential for strategies that increase household-level consumption to bring nutritional benefits to young children.\"\n",
    "\n",
    "def tst_fnc():\n",
    "    #query = \"Journal: \"+journal+\", Title: \"+physics_paper\n",
    "    #query = \"Journal: \"+journal+\", Title: \"+title\n",
    "    #query = title\n",
    "    #query = title + \". Abstract: \"+ abstract\n",
    "    #query = \"Journal: \"+journal+\", Title: \"+title+\", Abstract: \"+ abstract\n",
    "    query = \"Abstract: \"+ abstract+\", Title: \"+title+\", Journal: \"+journal\n",
    " #   return classify_text_with_ids(query, classifier, hierarchy_with_ids,threshold=0.3,n_max=10)\n",
    "    return classify_text_with_ids(query, classifier, hierarchy_with_ids,threshold=0.7)\n",
    "\n",
    "#elapsed_time = timeit.timeit(tst_fnc, number=1)\n",
    "#print(f\"Elapsed time: {elapsed_time} seconds\")\n",
    "result = tst_fnc()\n",
    "# Display the results\n",
    "print(\"Final Classification Results:\")\n",
    "for path, prob, hierarchy_path in result:\n",
    "    print(f\"Path: {path}, Probability: {prob:.4f}\\n\")"
   ]
  },
  {
   "cell_type": "code",
   "execution_count": 24,
   "id": "ca4a3335-264c-4c83-a6d9-42a7d85d1feb",
   "metadata": {},
   "outputs": [
    {
     "data": {
      "text/plain": [
       "[('Health Sciences -> Public health',\n",
       "  0.4437040154943901,\n",
       "  ['Health Sciences', 'Public health']),\n",
       " ('Health Sciences -> Epidemiology',\n",
       "  0.3377682463194418,\n",
       "  ['Health Sciences', 'Epidemiology'])]"
      ]
     },
     "execution_count": 24,
     "metadata": {},
     "output_type": "execute_result"
    }
   ],
   "source": [
    "result"
   ]
  },
  {
   "cell_type": "code",
   "execution_count": null,
   "id": "539dcaaf-15a4-4f69-b63d-9be5a3083c70",
   "metadata": {},
   "outputs": [],
   "source": []
  }
 ],
 "metadata": {
  "kernelspec": {
   "display_name": "Python 3 (ipykernel)",
   "language": "python",
   "name": "python3"
  },
  "language_info": {
   "codemirror_mode": {
    "name": "ipython",
    "version": 3
   },
   "file_extension": ".py",
   "mimetype": "text/x-python",
   "name": "python",
   "nbconvert_exporter": "python",
   "pygments_lexer": "ipython3",
   "version": "3.11.8"
  }
 },
 "nbformat": 4,
 "nbformat_minor": 5
}
